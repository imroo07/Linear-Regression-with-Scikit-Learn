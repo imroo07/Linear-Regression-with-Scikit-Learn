{
  "cells": [
    {
      "cell_type": "markdown",
      "id": "0e28a1a1",
      "metadata": {
        "id": "0e28a1a1"
      },
      "source": [
        "# Linear Regression with Scikit Learn\n"
      ]
    },
    {
      "cell_type": "code",
      "execution_count": null,
      "id": "c44ead68",
      "metadata": {
        "id": "c44ead68"
      },
      "outputs": [],
      "source": [
        "#restart the kernel after installation\n",
        "!pip install pandas --quiet"
      ]
    },
    {
      "cell_type": "code",
      "execution_count": null,
      "id": "2fb08156",
      "metadata": {
        "id": "2fb08156"
      },
      "outputs": [],
      "source": [
        "medical_charges_url = 'https://raw.githubusercontent.com/JovianML/opendatasets/master/data/medical-charges.csv'"
      ]
    },
    {
      "cell_type": "code",
      "execution_count": null,
      "id": "178a1b4a",
      "metadata": {
        "id": "178a1b4a"
      },
      "outputs": [],
      "source": [
        "from urllib.request import urlretrieve"
      ]
    },
    {
      "cell_type": "code",
      "execution_count": null,
      "id": "8df68352",
      "metadata": {
        "scrolled": true,
        "id": "8df68352"
      },
      "outputs": [],
      "source": [
        "urlretrieve(medical_charges_url, 'medical.csv')"
      ]
    },
    {
      "cell_type": "markdown",
      "source": [
        "Understanding the Data"
      ],
      "metadata": {
        "id": "CU_sVdoHwhuk"
      },
      "id": "CU_sVdoHwhuk"
    },
    {
      "cell_type": "code",
      "execution_count": null,
      "id": "9f0716e7",
      "metadata": {
        "id": "9f0716e7"
      },
      "outputs": [],
      "source": [
        "import pandas as pd"
      ]
    },
    {
      "cell_type": "code",
      "execution_count": null,
      "id": "201518f6",
      "metadata": {
        "id": "201518f6"
      },
      "outputs": [],
      "source": [
        "medical_df = pd.read_csv('medical.csv')"
      ]
    },
    {
      "cell_type": "code",
      "execution_count": null,
      "id": "4cd12809",
      "metadata": {
        "scrolled": false,
        "id": "4cd12809"
      },
      "outputs": [],
      "source": [
        "medical_df"
      ]
    },
    {
      "cell_type": "code",
      "execution_count": null,
      "id": "ec3846db",
      "metadata": {
        "id": "ec3846db"
      },
      "outputs": [],
      "source": [
        "medical_df.info()"
      ]
    },
    {
      "cell_type": "code",
      "execution_count": null,
      "id": "601dd869",
      "metadata": {
        "id": "601dd869"
      },
      "outputs": [],
      "source": [
        "medical_df.describe()"
      ]
    },
    {
      "cell_type": "markdown",
      "source": [
        "Exploratory Data Analysis and Visualization"
      ],
      "metadata": {
        "id": "G9CB2HeqVpov"
      },
      "id": "G9CB2HeqVpov"
    },
    {
      "cell_type": "code",
      "execution_count": null,
      "id": "f2e85bc8",
      "metadata": {
        "id": "f2e85bc8"
      },
      "outputs": [],
      "source": [
        "!pip install plotly matplotlib seaborn --quiet"
      ]
    },
    {
      "cell_type": "code",
      "execution_count": null,
      "id": "66d82725",
      "metadata": {
        "id": "66d82725"
      },
      "outputs": [],
      "source": [
        "import plotly.express as px\n",
        "import matplotlib\n",
        "import matplotlib.pyplot as plt\n",
        "import seaborn as sns\n",
        "%matplotlib inline"
      ]
    },
    {
      "cell_type": "code",
      "execution_count": null,
      "id": "8ffedac7",
      "metadata": {
        "id": "8ffedac7"
      },
      "outputs": [],
      "source": [
        "sns.set_style('darkgrid')\n",
        "matplotlib.rcParams['font.size'] = 14\n",
        "matplotlib.rcParams['figure.figsize'] = (10, 6)\n",
        "matplotlib.rcParams['figure.facecolor'] = '#00000000'"
      ]
    },
    {
      "cell_type": "code",
      "execution_count": null,
      "id": "1252a914",
      "metadata": {
        "id": "1252a914"
      },
      "outputs": [],
      "source": [
        "medical_df.age.describe()"
      ]
    },
    {
      "cell_type": "markdown",
      "source": [
        "Visualize Age"
      ],
      "metadata": {
        "id": "cMtJK6tnVyxR"
      },
      "id": "cMtJK6tnVyxR"
    },
    {
      "cell_type": "code",
      "execution_count": null,
      "id": "fa559500",
      "metadata": {
        "id": "fa559500"
      },
      "outputs": [],
      "source": [
        "fig = px.histogram(medical_df,\n",
        "                   x='age',\n",
        "                   marginal='box',\n",
        "                   nbins=47,\n",
        "                   title='Distribution of Age')\n",
        "fig.update_layout(bargap=0.1)\n",
        "fig.show()"
      ]
    },
    {
      "cell_type": "markdown",
      "source": [
        "Visualize BMI (Body Mass Index)"
      ],
      "metadata": {
        "id": "y4CM31wuV4qD"
      },
      "id": "y4CM31wuV4qD"
    },
    {
      "cell_type": "code",
      "execution_count": null,
      "id": "8ab40b89",
      "metadata": {
        "scrolled": false,
        "id": "8ab40b89"
      },
      "outputs": [],
      "source": [
        "fig = px.histogram(medical_df,\n",
        "                   x='bmi',\n",
        "                   marginal='box',\n",
        "                   color_discrete_sequence=['red'],\n",
        "                   title='Distribution of BMI (Body Mass Index)')\n",
        "fig.update_layout(bargap=0.1)\n",
        "fig.show()"
      ]
    },
    {
      "cell_type": "markdown",
      "source": [
        "Visualize Annual Medical Charges"
      ],
      "metadata": {
        "id": "_aAXPVKXV_x-"
      },
      "id": "_aAXPVKXV_x-"
    },
    {
      "cell_type": "code",
      "execution_count": null,
      "id": "56afc784",
      "metadata": {
        "id": "56afc784"
      },
      "outputs": [],
      "source": [
        "fig = px.histogram(medical_df,\n",
        "                   x='charges',\n",
        "                   marginal='box',\n",
        "                   color='smoker',\n",
        "                   color_discrete_sequence=['green', 'grey'],\n",
        "                   title='Annual Medical Charges')\n",
        "fig.update_layout(bargap=0.1)\n",
        "fig.show()"
      ]
    },
    {
      "cell_type": "markdown",
      "source": [
        "Visualize Smoker count"
      ],
      "metadata": {
        "id": "cH441DegWGit"
      },
      "id": "cH441DegWGit"
    },
    {
      "cell_type": "code",
      "execution_count": null,
      "id": "b742e0d1",
      "metadata": {
        "id": "b742e0d1"
      },
      "outputs": [],
      "source": [
        "medical_df.smoker.value_counts()"
      ]
    },
    {
      "cell_type": "code",
      "execution_count": null,
      "id": "131851de",
      "metadata": {
        "id": "131851de"
      },
      "outputs": [],
      "source": [
        "px.histogram(medical_df, x='smoker', color='sex', title='Smoker')"
      ]
    },
    {
      "cell_type": "markdown",
      "source": [
        "Age vs Charges"
      ],
      "metadata": {
        "id": "2HCuJbdmWOjq"
      },
      "id": "2HCuJbdmWOjq"
    },
    {
      "cell_type": "code",
      "execution_count": null,
      "id": "5d6d5d24",
      "metadata": {
        "id": "5d6d5d24"
      },
      "outputs": [],
      "source": [
        "fig = px.scatter(medical_df,\n",
        "                 x='age',\n",
        "                 y='charges',\n",
        "                 color='smoker',\n",
        "                 opacity=0.8,\n",
        "                 hover_data=['sex'],\n",
        "                 title='Age vs. Charges')\n",
        "fig.update_traces(marker_size=5)\n",
        "fig.show()"
      ]
    },
    {
      "cell_type": "markdown",
      "source": [
        "BMI vs Charges"
      ],
      "metadata": {
        "id": "lAU_MUr4WRj0"
      },
      "id": "lAU_MUr4WRj0"
    },
    {
      "cell_type": "code",
      "execution_count": null,
      "id": "745f5099",
      "metadata": {
        "id": "745f5099"
      },
      "outputs": [],
      "source": [
        "fig = px.scatter(medical_df,\n",
        "                 x='bmi',\n",
        "                 y='charges',\n",
        "                 color='smoker',\n",
        "                 opacity=0.8,\n",
        "                 hover_data=['sex'],\n",
        "                 title='BMI vs. Charges')\n",
        "fig.update_traces(marker_size=5)\n",
        "fig.show()"
      ]
    },
    {
      "cell_type": "markdown",
      "id": "33d33ac6",
      "metadata": {
        "id": "33d33ac6"
      },
      "source": [
        "### Correlation"
      ]
    },
    {
      "cell_type": "code",
      "execution_count": null,
      "id": "bcd6d4d6",
      "metadata": {
        "id": "bcd6d4d6"
      },
      "outputs": [],
      "source": [
        "medical_df.charges.corr(medical_df.age)"
      ]
    },
    {
      "cell_type": "code",
      "execution_count": null,
      "id": "d69e90e1",
      "metadata": {
        "id": "d69e90e1"
      },
      "outputs": [],
      "source": [
        "medical_df.charges.corr(medical_df.bmi)"
      ]
    },
    {
      "cell_type": "code",
      "execution_count": null,
      "id": "490888ba",
      "metadata": {
        "id": "490888ba"
      },
      "outputs": [],
      "source": [
        "smoker_values = {'no': 0, 'yes': 1}\n",
        "smoker_numeric = medical_df.smoker.map(smoker_values)\n",
        "medical_df.charges.corr(smoker_numeric)"
      ]
    },
    {
      "cell_type": "code",
      "source": [
        "# Calculate the correlation matrix for numeric columns only\n",
        "numeric_df = medical_df.select_dtypes(include=['number'])\n",
        "correlation_matrix = numeric_df.corr()\n",
        "\n",
        "# Display the correlation matrix\n",
        "print(correlation_matrix)"
      ],
      "metadata": {
        "id": "2vtZ5g5eiAB4"
      },
      "id": "2vtZ5g5eiAB4",
      "execution_count": null,
      "outputs": []
    },
    {
      "cell_type": "code",
      "execution_count": null,
      "id": "c94049f3",
      "metadata": {
        "id": "c94049f3"
      },
      "outputs": [],
      "source": [
        "sns.heatmap(numeric_df.corr(), cmap='Reds', annot=True)\n",
        "plt.title('Correlation Matrix');"
      ]
    },
    {
      "cell_type": "markdown",
      "id": "eab02335",
      "metadata": {
        "id": "eab02335"
      },
      "source": [
        "## Linear Regression using a Single Feature"
      ]
    },
    {
      "cell_type": "code",
      "execution_count": null,
      "id": "fc5f95a2",
      "metadata": {
        "id": "fc5f95a2"
      },
      "outputs": [],
      "source": [
        "non_smoker_df = medical_df[medical_df.smoker == 'no']"
      ]
    },
    {
      "cell_type": "code",
      "execution_count": null,
      "id": "b6e218f7",
      "metadata": {
        "id": "b6e218f7"
      },
      "outputs": [],
      "source": [
        "plt.title('Age vs. Charges')\n",
        "sns.scatterplot(data=non_smoker_df, x='age', y='charges', alpha=0.7, s=15);"
      ]
    },
    {
      "cell_type": "code",
      "execution_count": null,
      "id": "5a718186",
      "metadata": {
        "id": "5a718186"
      },
      "outputs": [],
      "source": [
        "def estimate_charges(age, w, b):\n",
        "    return w * age + b"
      ]
    },
    {
      "cell_type": "code",
      "execution_count": null,
      "id": "3f171033",
      "metadata": {
        "id": "3f171033"
      },
      "outputs": [],
      "source": [
        "w = 50\n",
        "b = 100"
      ]
    },
    {
      "cell_type": "code",
      "execution_count": null,
      "id": "d98596e8",
      "metadata": {
        "id": "d98596e8"
      },
      "outputs": [],
      "source": [
        "ages = non_smoker_df.age\n",
        "estimated_charges = estimate_charges(ages, w, b)"
      ]
    },
    {
      "cell_type": "code",
      "execution_count": null,
      "id": "2ca70529",
      "metadata": {
        "id": "2ca70529"
      },
      "outputs": [],
      "source": [
        "plt.plot(ages, estimated_charges, 'r-o');\n",
        "plt.xlabel('Age');\n",
        "plt.ylabel('Estimated Charges');"
      ]
    },
    {
      "cell_type": "code",
      "execution_count": null,
      "id": "6c410ea9",
      "metadata": {
        "id": "6c410ea9"
      },
      "outputs": [],
      "source": [
        "target = non_smoker_df.charges\n",
        "\n",
        "plt.plot(ages, estimated_charges, 'r', alpha=0.9);\n",
        "plt.scatter(ages, target, s=8,alpha=0.8);\n",
        "plt.xlabel('Age');\n",
        "plt.ylabel('Charges')\n",
        "plt.legend(['Estimate', 'Actual']);"
      ]
    },
    {
      "cell_type": "code",
      "execution_count": null,
      "id": "49e0cdcf",
      "metadata": {
        "id": "49e0cdcf"
      },
      "outputs": [],
      "source": [
        "def try_parameters(w, b):\n",
        "    ages = non_smoker_df.age\n",
        "    target = non_smoker_df.charges\n",
        "\n",
        "    estimated_charges = estimate_charges(ages, w, b)\n",
        "\n",
        "    plt.plot(ages, estimated_charges, 'r', alpha=0.9);\n",
        "    plt.scatter(ages, target, s=8,alpha=0.8);\n",
        "    plt.xlabel('Age');\n",
        "    plt.ylabel('Charges')\n",
        "    plt.legend(['Estimate', 'Actual']);"
      ]
    },
    {
      "cell_type": "code",
      "execution_count": null,
      "id": "65976fd3",
      "metadata": {
        "id": "65976fd3"
      },
      "outputs": [],
      "source": [
        "try_parameters(60, 200)"
      ]
    },
    {
      "cell_type": "code",
      "execution_count": null,
      "id": "c3fb1453",
      "metadata": {
        "scrolled": false,
        "id": "c3fb1453"
      },
      "outputs": [],
      "source": [
        "try_parameters(400, 5000)"
      ]
    },
    {
      "cell_type": "markdown",
      "id": "c0a905ea",
      "metadata": {
        "id": "c0a905ea"
      },
      "source": [
        "### Loss/Cost Function"
      ]
    },
    {
      "cell_type": "code",
      "execution_count": null,
      "id": "b69db3e3",
      "metadata": {
        "id": "b69db3e3"
      },
      "outputs": [],
      "source": [
        "!pip install numpy --quiet"
      ]
    },
    {
      "cell_type": "code",
      "execution_count": null,
      "id": "498d84d9",
      "metadata": {
        "id": "498d84d9"
      },
      "outputs": [],
      "source": [
        "import numpy as np"
      ]
    },
    {
      "cell_type": "code",
      "execution_count": null,
      "id": "e5cb0cab",
      "metadata": {
        "id": "e5cb0cab"
      },
      "outputs": [],
      "source": [
        "def rmse(targets, predictions):\n",
        "    return np.sqrt(np.mean(np.square(targets - predictions)))"
      ]
    },
    {
      "cell_type": "markdown",
      "id": "7e6d4cf1",
      "metadata": {
        "id": "7e6d4cf1"
      },
      "source": [
        "Let's compute the RMSE for our model with a sample set of weights"
      ]
    },
    {
      "cell_type": "code",
      "execution_count": null,
      "id": "5e5941fb",
      "metadata": {
        "id": "5e5941fb"
      },
      "outputs": [],
      "source": [
        "w = 50\n",
        "b = 100"
      ]
    },
    {
      "cell_type": "code",
      "execution_count": null,
      "id": "edb05a32",
      "metadata": {
        "id": "edb05a32"
      },
      "outputs": [],
      "source": [
        "try_parameters(w, b)"
      ]
    },
    {
      "cell_type": "code",
      "execution_count": null,
      "id": "642e7247",
      "metadata": {
        "id": "642e7247"
      },
      "outputs": [],
      "source": [
        "targets = non_smoker_df['charges']\n",
        "predicted = estimate_charges(non_smoker_df.age, w, b)"
      ]
    },
    {
      "cell_type": "code",
      "execution_count": null,
      "id": "4401f23c",
      "metadata": {
        "id": "4401f23c"
      },
      "outputs": [],
      "source": [
        "rmse(targets, predicted)"
      ]
    },
    {
      "cell_type": "code",
      "execution_count": null,
      "id": "15dbbaf1",
      "metadata": {
        "id": "15dbbaf1"
      },
      "outputs": [],
      "source": [
        "def try_parameters(w, b):\n",
        "    ages = non_smoker_df.age\n",
        "    target = non_smoker_df.charges\n",
        "    predictions = estimate_charges(ages, w, b)\n",
        "\n",
        "    plt.plot(ages, predictions, 'r', alpha=0.9);\n",
        "    plt.scatter(ages, target, s=8,alpha=0.8);\n",
        "    plt.xlabel('Age');\n",
        "    plt.ylabel('Charges')\n",
        "    plt.legend(['Prediction', 'Actual']);\n",
        "\n",
        "    loss = rmse(target, predictions)\n",
        "    print(\"RMSE Loss: \", loss)"
      ]
    },
    {
      "cell_type": "code",
      "execution_count": null,
      "id": "bfadd017",
      "metadata": {
        "id": "bfadd017"
      },
      "outputs": [],
      "source": [
        "try_parameters(50, 100)"
      ]
    },
    {
      "cell_type": "markdown",
      "id": "1c562b45",
      "metadata": {
        "id": "1c562b45"
      },
      "source": [
        "### Optimizer\n",
        "\n"
      ]
    },
    {
      "cell_type": "markdown",
      "id": "b5060d75",
      "metadata": {
        "id": "b5060d75"
      },
      "source": [
        "### Linear Regression using Scikit-learn"
      ]
    },
    {
      "cell_type": "code",
      "execution_count": null,
      "id": "5861457f",
      "metadata": {
        "id": "5861457f"
      },
      "outputs": [],
      "source": [
        "!pip install scikit-learn --quiet"
      ]
    },
    {
      "cell_type": "code",
      "execution_count": null,
      "id": "1bd6a91c",
      "metadata": {
        "id": "1bd6a91c"
      },
      "outputs": [],
      "source": [
        "from sklearn.linear_model import LinearRegression"
      ]
    },
    {
      "cell_type": "code",
      "execution_count": null,
      "id": "8b690c0c",
      "metadata": {
        "id": "8b690c0c"
      },
      "outputs": [],
      "source": [
        "model = LinearRegression()"
      ]
    },
    {
      "cell_type": "code",
      "execution_count": null,
      "id": "21693b2f",
      "metadata": {
        "id": "21693b2f"
      },
      "outputs": [],
      "source": [
        "inputs = non_smoker_df[['age']]\n",
        "targets = non_smoker_df.charges\n",
        "print('inputs.shape :', inputs.shape)\n",
        "print('targes.shape :', targets.shape)"
      ]
    },
    {
      "cell_type": "code",
      "execution_count": null,
      "id": "c27cf40f",
      "metadata": {
        "id": "c27cf40f"
      },
      "outputs": [],
      "source": [
        "model.fit(inputs, targets)"
      ]
    },
    {
      "cell_type": "code",
      "execution_count": null,
      "id": "5e342060",
      "metadata": {
        "id": "5e342060"
      },
      "outputs": [],
      "source": [
        "model.predict(np.array([[23],\n",
        "                        [37],\n",
        "                        [61]]))"
      ]
    },
    {
      "cell_type": "code",
      "execution_count": null,
      "id": "705628f0",
      "metadata": {
        "id": "705628f0"
      },
      "outputs": [],
      "source": [
        "predictions = model.predict(inputs)"
      ]
    },
    {
      "cell_type": "code",
      "execution_count": null,
      "id": "8eea9cf3",
      "metadata": {
        "id": "8eea9cf3"
      },
      "outputs": [],
      "source": [
        "predictions"
      ]
    },
    {
      "cell_type": "code",
      "execution_count": null,
      "id": "cf1677a9",
      "metadata": {
        "id": "cf1677a9"
      },
      "outputs": [],
      "source": [
        "rmse(targets, predictions)"
      ]
    },
    {
      "cell_type": "code",
      "execution_count": null,
      "id": "c47d0e9a",
      "metadata": {
        "id": "c47d0e9a"
      },
      "outputs": [],
      "source": [
        "# w\n",
        "model.coef_"
      ]
    },
    {
      "cell_type": "code",
      "execution_count": null,
      "id": "34149458",
      "metadata": {
        "id": "34149458"
      },
      "outputs": [],
      "source": [
        "# b\n",
        "model.intercept_"
      ]
    },
    {
      "cell_type": "code",
      "execution_count": null,
      "id": "0fa0b08e",
      "metadata": {
        "id": "0fa0b08e"
      },
      "outputs": [],
      "source": [
        "try_parameters(model.coef_, model.intercept_)"
      ]
    },
    {
      "cell_type": "markdown",
      "source": [
        "Linear Regression using Multiple Features"
      ],
      "metadata": {
        "id": "rJ8r0HnsWpJR"
      },
      "id": "rJ8r0HnsWpJR"
    },
    {
      "cell_type": "code",
      "execution_count": null,
      "id": "27237ffd",
      "metadata": {
        "id": "27237ffd"
      },
      "outputs": [],
      "source": [
        "# Create inputs and targets\n",
        "inputs, targets = non_smoker_df[['age']], non_smoker_df['charges']\n",
        "\n",
        "# Create and train the model\n",
        "model = LinearRegression().fit(inputs, targets)\n",
        "\n",
        "# Generate predictions\n",
        "predictions = model.predict(inputs)\n",
        "\n",
        "# Compute loss to evalute the model\n",
        "loss = rmse(targets, predictions)\n",
        "print('Loss:', loss)"
      ]
    },
    {
      "cell_type": "code",
      "execution_count": null,
      "id": "d102c01a",
      "metadata": {
        "id": "d102c01a"
      },
      "outputs": [],
      "source": [
        "# Create inputs and targets\n",
        "inputs, targets = non_smoker_df[['age', 'bmi']], non_smoker_df['charges']\n",
        "\n",
        "# Create and train the model\n",
        "model = LinearRegression().fit(inputs, targets)\n",
        "\n",
        "# Generate predictions\n",
        "predictions = model.predict(inputs)\n",
        "\n",
        "# Compute loss to evalute the model\n",
        "loss = rmse(targets, predictions)\n",
        "print('Loss:', loss)"
      ]
    },
    {
      "cell_type": "code",
      "execution_count": null,
      "id": "bed633ab",
      "metadata": {
        "id": "bed633ab"
      },
      "outputs": [],
      "source": [
        "non_smoker_df.charges.corr(non_smoker_df.bmi)"
      ]
    },
    {
      "cell_type": "markdown",
      "source": [
        "BMI vs Charges"
      ],
      "metadata": {
        "id": "6XaDrgzKW4Ht"
      },
      "id": "6XaDrgzKW4Ht"
    },
    {
      "cell_type": "code",
      "execution_count": null,
      "id": "314b2440",
      "metadata": {
        "id": "314b2440"
      },
      "outputs": [],
      "source": [
        "fig = px.scatter(non_smoker_df, x='bmi', y='charges', title='BMI vs. Charges')\n",
        "fig.update_traces(marker_size=5)\n",
        "fig.show()"
      ]
    },
    {
      "cell_type": "markdown",
      "id": "5b083cf5",
      "metadata": {
        "id": "5b083cf5"
      },
      "source": [
        "We can also visualize the relationship between all 3 variables \"age\", \"bmi\" and \"charges\" using a 3D scatter plot."
      ]
    },
    {
      "cell_type": "code",
      "execution_count": null,
      "id": "a52f8580",
      "metadata": {
        "id": "a52f8580"
      },
      "outputs": [],
      "source": [
        "fig = px.scatter_3d(non_smoker_df, x='age', y='bmi', z='charges')\n",
        "fig.update_traces(marker_size=3, marker_opacity=0.5)\n",
        "fig.show()"
      ]
    },
    {
      "cell_type": "code",
      "execution_count": null,
      "id": "5c9bfa29",
      "metadata": {
        "id": "5c9bfa29"
      },
      "outputs": [],
      "source": [
        "model.coef_, model.intercept_"
      ]
    },
    {
      "cell_type": "code",
      "execution_count": null,
      "id": "c6cd797b",
      "metadata": {
        "id": "c6cd797b"
      },
      "outputs": [],
      "source": [
        "non_smoker_df.charges.corr(non_smoker_df.children)"
      ]
    },
    {
      "cell_type": "markdown",
      "source": [
        "Children vs Charges"
      ],
      "metadata": {
        "id": "FtHOHh2CW8Ot"
      },
      "id": "FtHOHh2CW8Ot"
    },
    {
      "cell_type": "code",
      "execution_count": null,
      "id": "d6396301",
      "metadata": {
        "id": "d6396301"
      },
      "outputs": [],
      "source": [
        "fig = px.strip(non_smoker_df, x='children', y='charges', title= \"Children vs. Charges\")\n",
        "fig.update_traces(marker_size=4, marker_opacity=0.7)\n",
        "fig.show()"
      ]
    },
    {
      "cell_type": "code",
      "execution_count": null,
      "id": "2033b74a",
      "metadata": {
        "id": "2033b74a"
      },
      "outputs": [],
      "source": [
        "# Create inputs and targets\n",
        "inputs, targets = non_smoker_df[['age', 'bmi', 'children']], non_smoker_df['charges']\n",
        "\n",
        "# Create and train the model\n",
        "model = LinearRegression().fit(inputs, targets)\n",
        "\n",
        "# Generate predictions\n",
        "predictions = model.predict(inputs)\n",
        "\n",
        "# Compute loss to evalute the model\n",
        "loss = rmse(targets, predictions)\n",
        "print('Loss:', loss)"
      ]
    },
    {
      "cell_type": "code",
      "execution_count": null,
      "id": "50fb6f65",
      "metadata": {
        "id": "50fb6f65"
      },
      "outputs": [],
      "source": [
        "# Create inputs and targets\n",
        "inputs, targets = medical_df[['age', 'bmi', 'children']], medical_df['charges']\n",
        "\n",
        "# Create and train the model\n",
        "model = LinearRegression().fit(inputs, targets)\n",
        "\n",
        "# Generate predictions\n",
        "predictions = model.predict(inputs)\n",
        "\n",
        "# Compute loss to evalute the model\n",
        "loss = rmse(targets, predictions)\n",
        "print('Loss:', loss)"
      ]
    },
    {
      "cell_type": "markdown",
      "source": [
        "Binary Smoker Count"
      ],
      "metadata": {
        "id": "5xGgpQbIXSp7"
      },
      "id": "5xGgpQbIXSp7"
    },
    {
      "cell_type": "code",
      "execution_count": null,
      "id": "2d5d03bf",
      "metadata": {
        "id": "2d5d03bf"
      },
      "outputs": [],
      "source": [
        "sns.barplot(data=medical_df, x='smoker', y='charges');"
      ]
    },
    {
      "cell_type": "code",
      "execution_count": null,
      "id": "6256f5f5",
      "metadata": {
        "id": "6256f5f5"
      },
      "outputs": [],
      "source": [
        "smoker_codes = {'no': 0, 'yes': 1}\n",
        "medical_df['smoker_code'] = medical_df.smoker.map(smoker_codes)"
      ]
    },
    {
      "cell_type": "code",
      "execution_count": null,
      "id": "684c92db",
      "metadata": {
        "id": "684c92db"
      },
      "outputs": [],
      "source": [
        "medical_df.charges.corr(medical_df.smoker_code)"
      ]
    },
    {
      "cell_type": "code",
      "execution_count": null,
      "id": "69f219a9",
      "metadata": {
        "id": "69f219a9"
      },
      "outputs": [],
      "source": [
        "medical_df"
      ]
    },
    {
      "cell_type": "code",
      "execution_count": null,
      "id": "5a3f8dab",
      "metadata": {
        "id": "5a3f8dab"
      },
      "outputs": [],
      "source": [
        "# Create inputs and targets\n",
        "inputs, targets = medical_df[['age', 'bmi', 'children', 'smoker_code']], medical_df['charges']\n",
        "\n",
        "# Create and train the model\n",
        "model = LinearRegression().fit(inputs, targets)\n",
        "\n",
        "# Generate predictions\n",
        "predictions = model.predict(inputs)\n",
        "\n",
        "# Compute loss to evalute the model\n",
        "loss = rmse(targets, predictions)\n",
        "print('Loss:', loss)"
      ]
    },
    {
      "cell_type": "code",
      "execution_count": null,
      "id": "0d2a2c3d",
      "metadata": {
        "id": "0d2a2c3d"
      },
      "outputs": [],
      "source": [
        "sns.barplot(data=medical_df, x='sex', y='charges')"
      ]
    },
    {
      "cell_type": "code",
      "execution_count": null,
      "id": "0c3724b0",
      "metadata": {
        "id": "0c3724b0"
      },
      "outputs": [],
      "source": [
        "sex_codes = {'female': 0, 'male': 1}"
      ]
    },
    {
      "cell_type": "code",
      "execution_count": null,
      "id": "989dbb4a",
      "metadata": {
        "id": "989dbb4a"
      },
      "outputs": [],
      "source": [
        "medical_df['sex_code'] = medical_df.sex.map(sex_codes)"
      ]
    },
    {
      "cell_type": "code",
      "execution_count": null,
      "id": "affe8344",
      "metadata": {
        "id": "affe8344"
      },
      "outputs": [],
      "source": [
        "medical_df.charges.corr(medical_df.sex_code)"
      ]
    },
    {
      "cell_type": "code",
      "execution_count": null,
      "id": "2e392a82",
      "metadata": {
        "id": "2e392a82"
      },
      "outputs": [],
      "source": [
        "# Create inputs and targets\n",
        "inputs, targets = medical_df[['age', 'bmi', 'children', 'smoker_code', 'sex_code']], medical_df['charges']\n",
        "\n",
        "# Create and train the model\n",
        "model = LinearRegression().fit(inputs, targets)\n",
        "\n",
        "# Generate predictions\n",
        "predictions = model.predict(inputs)\n",
        "\n",
        "# Compute loss to evalute the model\n",
        "loss = rmse(targets, predictions)\n",
        "print('Loss:', loss)"
      ]
    },
    {
      "cell_type": "markdown",
      "id": "7853dc56",
      "metadata": {
        "id": "7853dc56"
      },
      "source": [
        "\n",
        "### One-hot Encoding\n",
        "\n",
        "The \"region\" column contains 4 values, so we'll need to use hot encoding and create a new column for each region.\n",
        "\n",
        "![](https://i.imgur.com/n8GuiOO.png)\n"
      ]
    },
    {
      "cell_type": "code",
      "execution_count": null,
      "id": "e3041f74",
      "metadata": {
        "id": "e3041f74"
      },
      "outputs": [],
      "source": [
        "sns.barplot(data=medical_df, x='region', y='charges');"
      ]
    },
    {
      "cell_type": "code",
      "execution_count": null,
      "id": "483627b3",
      "metadata": {
        "id": "483627b3"
      },
      "outputs": [],
      "source": [
        "from sklearn import preprocessing\n",
        "enc = preprocessing.OneHotEncoder()\n",
        "enc.fit(medical_df[['region']])\n",
        "enc.categories_"
      ]
    },
    {
      "cell_type": "code",
      "execution_count": null,
      "id": "39bfd58d",
      "metadata": {
        "id": "39bfd58d"
      },
      "outputs": [],
      "source": [
        "one_hot = enc.transform(medical_df[['region']]).toarray()\n",
        "one_hot"
      ]
    },
    {
      "cell_type": "code",
      "execution_count": null,
      "id": "b456d839",
      "metadata": {
        "id": "b456d839"
      },
      "outputs": [],
      "source": [
        "medical_df[['northeast', 'northwest', 'southeast', 'southwest']] = one_hot"
      ]
    },
    {
      "cell_type": "code",
      "execution_count": null,
      "id": "09669544",
      "metadata": {
        "id": "09669544"
      },
      "outputs": [],
      "source": [
        "medical_df"
      ]
    },
    {
      "cell_type": "code",
      "execution_count": null,
      "id": "d292072e",
      "metadata": {
        "id": "d292072e"
      },
      "outputs": [],
      "source": [
        "# Create inputs and targets\n",
        "input_cols = ['age', 'bmi', 'children', 'smoker_code', 'sex_code', 'northeast', 'northwest', 'southeast', 'southwest']\n",
        "inputs, targets = medical_df[input_cols], medical_df['charges']\n",
        "\n",
        "# Create and train the model\n",
        "model = LinearRegression().fit(inputs, targets)\n",
        "\n",
        "# Generate predictions\n",
        "predictions = model.predict(inputs)\n",
        "\n",
        "# Compute loss to evalute the model\n",
        "loss = rmse(targets, predictions)\n",
        "print('Loss:', loss)"
      ]
    },
    {
      "cell_type": "markdown",
      "id": "6082be63",
      "metadata": {
        "id": "6082be63"
      },
      "source": [
        "### Feature Scaling"
      ]
    },
    {
      "cell_type": "code",
      "execution_count": null,
      "id": "b38d0e86",
      "metadata": {
        "id": "b38d0e86"
      },
      "outputs": [],
      "source": [
        "model.coef_"
      ]
    },
    {
      "cell_type": "code",
      "execution_count": null,
      "id": "ea8002fd",
      "metadata": {
        "id": "ea8002fd"
      },
      "outputs": [],
      "source": [
        "model.intercept_"
      ]
    },
    {
      "cell_type": "code",
      "execution_count": null,
      "id": "0a05fa78",
      "metadata": {
        "id": "0a05fa78"
      },
      "outputs": [],
      "source": [
        "weights_df = pd.DataFrame({\n",
        "    'feature': np.append(input_cols, 1),\n",
        "    'weight': np.append(model.coef_, model.intercept_)\n",
        "})\n",
        "weights_df"
      ]
    },
    {
      "cell_type": "code",
      "execution_count": null,
      "id": "48d14c89",
      "metadata": {
        "id": "48d14c89"
      },
      "outputs": [],
      "source": [
        "medical_df"
      ]
    },
    {
      "cell_type": "markdown",
      "source": [
        "Standardise"
      ],
      "metadata": {
        "id": "BVSJuM9Xgg4x"
      },
      "id": "BVSJuM9Xgg4x"
    },
    {
      "cell_type": "code",
      "execution_count": null,
      "id": "89c49dd6",
      "metadata": {
        "id": "89c49dd6"
      },
      "outputs": [],
      "source": [
        "from sklearn.preprocessing import StandardScaler"
      ]
    },
    {
      "cell_type": "code",
      "execution_count": null,
      "id": "60586fe2",
      "metadata": {
        "id": "60586fe2"
      },
      "outputs": [],
      "source": [
        "numeric_cols = ['age', 'bmi', 'children']\n",
        "scaler = StandardScaler()\n",
        "scaler.fit(medical_df[numeric_cols])"
      ]
    },
    {
      "cell_type": "code",
      "execution_count": null,
      "id": "efb5ffed",
      "metadata": {
        "id": "efb5ffed"
      },
      "outputs": [],
      "source": [
        "scaler.mean_"
      ]
    },
    {
      "cell_type": "code",
      "execution_count": null,
      "id": "b02e21d2",
      "metadata": {
        "id": "b02e21d2"
      },
      "outputs": [],
      "source": [
        "scaler.var_"
      ]
    },
    {
      "cell_type": "code",
      "execution_count": null,
      "id": "08142072",
      "metadata": {
        "id": "08142072"
      },
      "outputs": [],
      "source": [
        "scaled_inputs = scaler.transform(medical_df[numeric_cols])\n",
        "scaled_inputs"
      ]
    },
    {
      "cell_type": "code",
      "execution_count": null,
      "id": "dd93085a",
      "metadata": {
        "id": "dd93085a"
      },
      "outputs": [],
      "source": [
        "cat_cols = ['smoker_code', 'sex_code', 'northeast', 'northwest', 'southeast', 'southwest']\n",
        "categorical_data = medical_df[cat_cols].values"
      ]
    },
    {
      "cell_type": "code",
      "execution_count": null,
      "id": "bfb892c1",
      "metadata": {
        "id": "bfb892c1"
      },
      "outputs": [],
      "source": [
        "inputs = np.concatenate((scaled_inputs, categorical_data), axis=1)\n",
        "targets = medical_df.charges\n",
        "\n",
        "# Create and train the model\n",
        "model = LinearRegression().fit(inputs, targets)\n",
        "\n",
        "# Generate predictions\n",
        "predictions = model.predict(inputs)\n",
        "\n",
        "# Compute loss to evalute the model\n",
        "loss = rmse(targets, predictions)\n",
        "print('Loss:', loss)"
      ]
    },
    {
      "cell_type": "code",
      "execution_count": null,
      "id": "0176dbf8",
      "metadata": {
        "id": "0176dbf8"
      },
      "outputs": [],
      "source": [
        "weights_df = pd.DataFrame({\n",
        "    'feature': np.append(numeric_cols + cat_cols, 1),\n",
        "    'weight': np.append(model.coef_, model.intercept_)\n",
        "})\n",
        "weights_df.sort_values('weight', ascending=False)"
      ]
    },
    {
      "cell_type": "markdown",
      "source": [
        "Test and Train set"
      ],
      "metadata": {
        "id": "WZSse8iRgrMV"
      },
      "id": "WZSse8iRgrMV"
    },
    {
      "cell_type": "code",
      "execution_count": null,
      "id": "99cb8e6a",
      "metadata": {
        "id": "99cb8e6a"
      },
      "outputs": [],
      "source": [
        "from sklearn.model_selection import train_test_split"
      ]
    },
    {
      "cell_type": "code",
      "execution_count": null,
      "id": "1142e391",
      "metadata": {
        "id": "1142e391"
      },
      "outputs": [],
      "source": [
        "inputs_train, inputs_test, targets_train, targets_test = train_test_split(inputs, targets, test_size=0.1)"
      ]
    },
    {
      "cell_type": "code",
      "execution_count": null,
      "id": "f4787982",
      "metadata": {
        "id": "f4787982"
      },
      "outputs": [],
      "source": [
        "# Create and train the model\n",
        "model = LinearRegression().fit(inputs_train, targets_train)\n",
        "\n",
        "# Generate predictions\n",
        "predictions_test = model.predict(inputs_test)\n",
        "\n",
        "# Compute loss to evalute the model\n",
        "loss = rmse(targets_test, predictions_test)\n",
        "print('Test Loss:', loss)"
      ]
    },
    {
      "cell_type": "markdown",
      "id": "df700ed8",
      "metadata": {
        "id": "df700ed8"
      },
      "source": [
        "Let's compare this with the training loss."
      ]
    },
    {
      "cell_type": "code",
      "execution_count": null,
      "id": "f1b2f099",
      "metadata": {
        "id": "f1b2f099"
      },
      "outputs": [],
      "source": [
        "# Generate predictions\n",
        "predictions_train = model.predict(inputs_train)\n",
        "\n",
        "# Compute loss to evalute the model\n",
        "loss = rmse(targets_train, predictions_train)\n",
        "print('Training Loss:', loss)"
      ]
    }
  ],
  "metadata": {
    "kernelspec": {
      "display_name": "Python 3 (ipykernel)",
      "language": "python",
      "name": "python3"
    },
    "language_info": {
      "codemirror_mode": {
        "name": "ipython",
        "version": 3
      },
      "file_extension": ".py",
      "mimetype": "text/x-python",
      "name": "python",
      "nbconvert_exporter": "python",
      "pygments_lexer": "ipython3",
      "version": "3.9.6"
    },
    "colab": {
      "provenance": []
    }
  },
  "nbformat": 4,
  "nbformat_minor": 5
}